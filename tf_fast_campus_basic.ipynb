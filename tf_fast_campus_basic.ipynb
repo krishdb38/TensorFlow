{
 "cells": [
  {
   "cell_type": "code",
   "execution_count": 1,
   "metadata": {},
   "outputs": [],
   "source": [
    "import numpy as np\n",
    "import tensorflow as tf"
   ]
  },
  {
   "cell_type": "markdown",
   "metadata": {},
   "source": [
    "## Creating Tensor"
   ]
  },
  {
   "cell_type": "code",
   "execution_count": 2,
   "metadata": {},
   "outputs": [
    {
     "data": {
      "text/plain": [
       "[1, 2, 3]"
      ]
     },
     "execution_count": 2,
     "metadata": {},
     "output_type": "execute_result"
    }
   ],
   "source": [
    "# list\n",
    "list_1 = [1,2,3]\n",
    "list_1"
   ]
  },
  {
   "cell_type": "markdown",
   "metadata": {},
   "source": [
    "## Array "
   ]
  },
  {
   "cell_type": "code",
   "execution_count": 3,
   "metadata": {},
   "outputs": [
    {
     "data": {
      "text/plain": [
       "array([[1, 2, 3]])"
      ]
     },
     "execution_count": 3,
     "metadata": {},
     "output_type": "execute_result"
    }
   ],
   "source": [
    "arr = np.array([list_1])\n",
    "arr"
   ]
  },
  {
   "cell_type": "markdown",
   "metadata": {},
   "source": [
    "## Tensor"
   ]
  },
  {
   "cell_type": "code",
   "execution_count": 4,
   "metadata": {},
   "outputs": [
    {
     "data": {
      "text/plain": [
       "<tf.Tensor: shape=(3,), dtype=int32, numpy=array([1, 2, 3])>"
      ]
     },
     "execution_count": 4,
     "metadata": {},
     "output_type": "execute_result"
    }
   ],
   "source": [
    "tensor = tf.constant(list_1)\n",
    "tensor"
   ]
  },
  {
   "cell_type": "code",
   "execution_count": 5,
   "metadata": {},
   "outputs": [
    {
     "data": {
      "text/plain": [
       "<tf.Tensor: shape=(2, 3), dtype=int32, numpy=\n",
       "array([[1, 2, 3],\n",
       "       [4, 5, 6]])>"
      ]
     },
     "execution_count": 5,
     "metadata": {},
     "output_type": "execute_result"
    }
   ],
   "source": [
    "# Also can pass tuple\n",
    "tuple_2x2 = [[1,2,3],[4,5,6]]\n",
    "tensor = tf.constant(tuple_2x2)\n",
    "tensor"
   ]
  },
  {
   "cell_type": "code",
   "execution_count": 6,
   "metadata": {},
   "outputs": [
    {
     "data": {
      "text/plain": [
       "array([[1, 2, 3],\n",
       "       [4, 5, 6]])"
      ]
     },
     "execution_count": 6,
     "metadata": {},
     "output_type": "execute_result"
    }
   ],
   "source": [
    "tensor.numpy()"
   ]
  },
  {
   "cell_type": "markdown",
   "metadata": {},
   "source": [
    "## Validating the Tensor"
   ]
  },
  {
   "cell_type": "code",
   "execution_count": 7,
   "metadata": {
    "scrolled": true
   },
   "outputs": [
    {
     "name": "stdout",
     "output_type": "stream",
     "text": [
      "AggregationMethod  -->  Assert  -->  CriticalSection  -->  DType  -->  DeviceSpec  -->  GradientTape  -->  Graph  -->  IndexedSlices  -->  IndexedSlicesSpec  -->  Module  -->  Operation  -->  OptionalSpec  -->  RaggedTensor  -->  RaggedTensorSpec  -->  RegisterGradient  -->  SparseTensor  -->  SparseTensorSpec  -->  Tensor  -->  TensorArray  -->  TensorArraySpec  -->  TensorShape  -->  TensorSpec  -->  TypeSpec  -->  UnconnectedGradients  -->  Variable  -->  VariableAggregation  -->  VariableSynchronization  -->  _API_MODULE  -->  _LazyLoader  -->  __all__  -->  __builtins__  -->  __cached__  -->  __compiler_version__  -->  __cxx11_abi_flag__  -->  __doc__  -->  __file__  -->  __git_version__  -->  __internal__  -->  __loader__  -->  __monolithic_build__  -->  __name__  -->  __operators__  -->  __package__  -->  __path__  -->  __spec__  -->  __version__  -->  _absolute_import  -->  _api  -->  _compat  -->  _current_file_location  -->  _current_module  -->  _distutils  -->  _division  -->  _estimator_module  -->  _fi  -->  _inspect  -->  _ll  -->  _logging  -->  _main_dir  -->  _major_api_version  -->  _module_dir  -->  _module_util  -->  _names_with_underscore  -->  _os  -->  _plugin_dir  -->  _print_function  -->  _running_from_pip_package  -->  _s  -->  _site  -->  _site_packages_dirs  -->  _six  -->  _sys  -->  _tf2  -->  _tf_api_dir  -->  _typing  -->  abs  -->  acos  -->  acosh  -->  add  -->  add_n  -->  argmax  -->  argmin  -->  argsort  -->  as_dtype  -->  as_string  -->  asin  -->  asinh  -->  assert_equal  -->  assert_greater  -->  assert_less  -->  assert_rank  -->  atan  -->  atan2  -->  atanh  -->  audio  -->  autodiff  -->  autograph  -->  batch_to_space  -->  bfloat16  -->  bitcast  -->  bitwise  -->  bool  -->  boolean_mask  -->  broadcast_dynamic_shape  -->  broadcast_static_shape  -->  broadcast_to  -->  case  -->  cast  -->  clip_by_global_norm  -->  clip_by_norm  -->  clip_by_value  -->  compat  -->  complex  -->  complex128  -->  complex64  -->  concat  -->  cond  -->  config  -->  constant  -->  constant_initializer  -->  control_dependencies  -->  convert_to_tensor  -->  cos  -->  cosh  -->  cumsum  -->  custom_gradient  -->  data  -->  debugging  -->  device  -->  distribute  -->  divide  -->  double  -->  dtypes  -->  dynamic_partition  -->  dynamic_stitch  -->  edit_distance  -->  eig  -->  eigvals  -->  einsum  -->  ensure_shape  -->  equal  -->  errors  -->  estimator  -->  executing_eagerly  -->  exp  -->  expand_dims  -->  experimental  -->  extract_volume_patches  -->  eye  -->  feature_column  -->  fill  -->  fingerprint  -->  float16  -->  float32  -->  float64  -->  floor  -->  foldl  -->  foldr  -->  function  -->  gather  -->  gather_nd  -->  get_logger  -->  get_static_value  -->  grad_pass_through  -->  gradients  -->  graph_util  -->  greater  -->  greater_equal  -->  group  -->  guarantee_const  -->  half  -->  hessians  -->  histogram_fixed_width  -->  histogram_fixed_width_bins  -->  identity  -->  identity_n  -->  image  -->  import_graph_def  -->  init_scope  -->  initializers  -->  inside_function  -->  int16  -->  int32  -->  int64  -->  int8  -->  io  -->  is_tensor  -->  keras  -->  less  -->  less_equal  -->  linalg  -->  linspace  -->  lite  -->  load_library  -->  load_op_library  -->  logical_and  -->  logical_not  -->  logical_or  -->  lookup  -->  losses  -->  make_ndarray  -->  make_tensor_proto  -->  map_fn  -->  math  -->  matmul  -->  matrix_square_root  -->  maximum  -->  meshgrid  -->  metrics  -->  minimum  -->  mixed_precision  -->  mlir  -->  multiply  -->  name_scope  -->  negative  -->  nest  -->  newaxis  -->  nn  -->  no_gradient  -->  no_op  -->  nondifferentiable_batch_function  -->  norm  -->  not_equal  -->  numpy_function  -->  one_hot  -->  ones  -->  ones_initializer  -->  ones_like  -->  optimizers  -->  pad  -->  parallel_stack  -->  pow  -->  print  -->  profiler  -->  py_function  -->  qint16  -->  qint32  -->  qint8  -->  quantization  -->  quantize_and_dequantize_v4  -->  queue  -->  quint16  -->  quint8  -->  ragged  -->  random  -->  random_normal_initializer  -->  random_uniform_initializer  -->  range  -->  rank  -->  raw_ops  -->  realdiv  -->  recompute_grad  -->  reduce_all  -->  reduce_any  -->  reduce_logsumexp  -->  reduce_max  -->  reduce_mean  -->  reduce_min  -->  reduce_prod  -->  reduce_sum  -->  register_tensor_conversion_function  -->  repeat  -->  required_space_to_batch_paddings  -->  reshape  -->  resource  -->  reverse  -->  reverse_sequence  -->  roll  -->  round  -->  saturate_cast  -->  saved_model  -->  scalar_mul  -->  scan  -->  scatter_nd  -->  searchsorted  -->  sequence_mask  -->  sets  -->  shape  -->  shape_n  -->  sigmoid  -->  sign  -->  signal  -->  sin  -->  sinh  -->  size  -->  slice  -->  sort  -->  space_to_batch  -->  space_to_batch_nd  -->  sparse  -->  split  -->  sqrt  -->  square  -->  squeeze  -->  stack  -->  stop_gradient  -->  strided_slice  -->  string  -->  strings  -->  subtract  -->  summary  -->  switch_case  -->  sysconfig  -->  tan  -->  tanh  -->  tensor_scatter_nd_add  -->  tensor_scatter_nd_max  -->  tensor_scatter_nd_min  -->  tensor_scatter_nd_sub  -->  tensor_scatter_nd_update  -->  tensordot  -->  test  -->  tile  -->  timestamp  -->  tools  -->  tpu  -->  train  -->  transpose  -->  truediv  -->  truncatediv  -->  truncatemod  -->  tuple  -->  type_spec_from_value  -->  types  -->  uint16  -->  uint32  -->  uint64  -->  uint8  -->  unique  -->  unique_with_counts  -->  unravel_index  -->  unstack  -->  variable_creator_scope  -->  variant  -->  vectorized_map  -->  version  -->  where  -->  while_loop  -->  xla  -->  zeros  -->  zeros_initializer  -->  zeros_like  -->  "
     ]
    }
   ],
   "source": [
    "for i in dir(tf):\n",
    "    print(i, end = \"  -->  \")"
   ]
  },
  {
   "cell_type": "code",
   "execution_count": 8,
   "metadata": {},
   "outputs": [
    {
     "data": {
      "text/plain": [
       "TensorShape([2, 3])"
      ]
     },
     "execution_count": 8,
     "metadata": {},
     "output_type": "execute_result"
    }
   ],
   "source": [
    "tensor.shape"
   ]
  },
  {
   "cell_type": "code",
   "execution_count": 9,
   "metadata": {},
   "outputs": [],
   "source": [
    "#dir(tf.keras)"
   ]
  },
  {
   "cell_type": "code",
   "execution_count": 10,
   "metadata": {},
   "outputs": [],
   "source": [
    "#tensr = tf.constant?\n",
    "#tensor = tf.constant\n"
   ]
  },
  {
   "cell_type": "code",
   "execution_count": 11,
   "metadata": {},
   "outputs": [],
   "source": [
    "tensr = tf.constant"
   ]
  },
  {
   "cell_type": "code",
   "execution_count": null,
   "metadata": {},
   "outputs": [],
   "source": []
  }
 ],
 "metadata": {
  "kernelspec": {
   "display_name": "Python 3",
   "language": "python",
   "name": "python3"
  },
  "language_info": {
   "codemirror_mode": {
    "name": "ipython",
    "version": 3
   },
   "file_extension": ".py",
   "mimetype": "text/x-python",
   "name": "python",
   "nbconvert_exporter": "python",
   "pygments_lexer": "ipython3",
   "version": "3.8.5"
  }
 },
 "nbformat": 4,
 "nbformat_minor": 4
}
